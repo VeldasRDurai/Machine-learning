{
 "cells": [
  {
   "cell_type": "code",
   "execution_count": 5,
   "id": "737374d5",
   "metadata": {},
   "outputs": [],
   "source": [
    "import pandas as pd\n",
    "import matplotlib.pyplot as plt"
   ]
  },
  {
   "cell_type": "code",
   "execution_count": 6,
   "id": "3a034318",
   "metadata": {},
   "outputs": [],
   "source": [
    "df = pd.read_csv(\"carprices.csv\")"
   ]
  },
  {
   "cell_type": "code",
   "execution_count": 14,
   "id": "14422eac",
   "metadata": {},
   "outputs": [
    {
     "data": {
      "image/png": "[encoded data removed]",
      "text/plain": [
       "<Figure size 432x288 with 1 Axes>"
      ]
     },
     "metadata": {
      "needs_background": "light"
     },
     "output_type": "display_data"
    }
   ],
   "source": [
    "plt.xlabel('Age(yrs)')\n",
    "plt.ylabel('Sell Price($)')\n",
    "plt.scatter(df['Age(yrs)'],df['Sell Price($)'])\n",
    "plt.show()"
   ]
  },
  {
   "cell_type": "code",
   "execution_count": 15,
   "id": "81abc4d2",
   "metadata": {},
   "outputs": [
    {
     "data": {
      "image/png": "[encoded data removed]",
      "text/plain": [
       "<Figure size 432x288 with 1 Axes>"
      ]
     },
     "metadata": {
      "needs_background": "light"
     },
     "output_type": "display_data"
    }
   ],
   "source": [
    "plt.xlabel('Mileage')\n",
    "plt.ylabel('Sell Price($)')\n",
    "plt.scatter(df['Mileage'],df['Sell Price($)'], color='orange')\n",
    "plt.show()"
   ]
  },
  {
   "cell_type": "code",
   "execution_count": 46,
   "id": "ac6facb0",
   "metadata": {},
   "outputs": [],
   "source": [
    "x = df.drop(['Sell Price($)'], axis='columns')\n",
    "y = df['Sell Price($)']"
   ]
  },
  {
   "cell_type": "code",
   "execution_count": 47,
   "id": "af1d5b9e",
   "metadata": {},
   "outputs": [],
   "source": [
    "from sklearn.model_selection import train_test_split\n",
    "x_train, x_test, y_train, y_test = train_test_split(x,y,test_size=0.2) #,random_state=10"
   ]
  },
  {
   "cell_type": "code",
   "execution_count": 48,
   "id": "1efd8d71",
   "metadata": {},
   "outputs": [
    {
     "data": {
      "text/plain": [
       "LinearRegression()"
      ]
     },
     "execution_count": 48,
     "metadata": {},
     "output_type": "execute_result"
    }
   ],
   "source": [
    "from sklearn.linear_model import LinearRegression\n",
    "modal = LinearRegression()\n",
    "modal.fit(x_train, y_train)"
   ]
  },
  {
   "cell_type": "code",
   "execution_count": 49,
   "id": "aa0c70d9",
   "metadata": {},
   "outputs": [
    {
     "data": {
      "text/plain": [
       "array([25272.2353987 , 22203.04654401, 25272.2353987 , 16287.65798082])"
      ]
     },
     "execution_count": 49,
     "metadata": {},
     "output_type": "execute_result"
    }
   ],
   "source": [
    "modal.predict(x_test) #gives predicted y_test"
   ]
  },
  {
   "cell_type": "code",
   "execution_count": 50,
   "id": "5b8769f7",
   "metadata": {},
   "outputs": [
    {
     "data": {
      "text/plain": [
       "[26000, 22000, 26750, 18700]"
      ]
     },
     "execution_count": 50,
     "metadata": {},
     "output_type": "execute_result"
    }
   ],
   "source": [
    "list(y_test) #actual y_test"
   ]
  },
  {
   "cell_type": "code",
   "execution_count": 51,
   "id": "13f8d20d",
   "metadata": {},
   "outputs": [
    {
     "data": {
      "text/plain": [
       "0.795986462274993"
      ]
     },
     "execution_count": 51,
     "metadata": {},
     "output_type": "execute_result"
    }
   ],
   "source": [
    "modal.score(x_test, y_test)"
   ]
  },
  {
   "cell_type": "code",
   "execution_count": null,
   "id": "aec83607",
   "metadata": {},
   "outputs": [],
   "source": []
  }
 ],
 "metadata": {
  "kernelspec": {
   "display_name": "Python 3",
   "language": "python",
   "name": "python3"
  },
  "language_info": {
   "codemirror_mode": {
    "name": "ipython",
    "version": 3
   },
   "file_extension": ".py",
   "mimetype": "text/x-python",
   "name": "python",
   "nbconvert_exporter": "python",
   "pygments_lexer": "ipython3",
   "version": "3.8.8"
  }
 },
 "nbformat": 4,
 "nbformat_minor": 5
}
